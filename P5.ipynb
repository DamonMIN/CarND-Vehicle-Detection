{
 "cells": [
  {
   "cell_type": "code",
   "execution_count": 39,
   "metadata": {},
   "outputs": [],
   "source": [
    "import glob\n",
    "import matplotlib.image as mpimg\n",
    "import matplotlib.pyplot as plt"
   ]
  },
  {
   "cell_type": "code",
   "execution_count": 31,
   "metadata": {},
   "outputs": [],
   "source": [
    "root = '/Users/wubai.zhou/Uber/CarND-Vehicle-Detection/'\n",
    "data_root = root + 'data/'\n",
    "images = glob.glob(data_root + '**/*.png', recursive=True)"
   ]
  },
  {
   "cell_type": "code",
   "execution_count": 48,
   "metadata": {},
   "outputs": [
    {
     "data": {
      "text/plain": [
       "17760"
      ]
     },
     "execution_count": 48,
     "metadata": {},
     "output_type": "execute_result"
    }
   ],
   "source": [
    "len(images)"
   ]
  },
  {
   "cell_type": "code",
   "execution_count": null,
   "metadata": {},
   "outputs": [],
   "source": [
    "def is_image_png(file_name):\n",
    "    file_name.end"
   ]
  },
  {
   "cell_type": "code",
   "execution_count": 49,
   "metadata": {},
   "outputs": [
    {
     "data": {
      "text/plain": [
       "True"
      ]
     },
     "execution_count": 49,
     "metadata": {},
     "output_type": "execute_result"
    }
   ],
   "source": [
    "images[1]\n",
    "images[1].endswith('.png')"
   ]
  },
  {
   "cell_type": "code",
   "execution_count": 36,
   "metadata": {},
   "outputs": [],
   "source": [
    "cars = []\n",
    "notcars = []\n",
    "for image in images:\n",
    "    if 'non-vehicles' in image:\n",
    "        notcars.append(image)\n",
    "    else:\n",
    "        cars.append(image)"
   ]
  },
  {
   "cell_type": "code",
   "execution_count": 37,
   "metadata": {},
   "outputs": [
    {
     "name": "stdout",
     "output_type": "stream",
     "text": [
      "8792\n",
      "8968\n"
     ]
    }
   ],
   "source": [
    "print(len(cars))\n",
    "print(len(notcars))"
   ]
  },
  {
   "cell_type": "code",
   "execution_count": 41,
   "metadata": {},
   "outputs": [
    {
     "data": {
      "text/plain": [
       "<matplotlib.image.AxesImage at 0x10d0f45c0>"
      ]
     },
     "execution_count": 41,
     "metadata": {},
     "output_type": "execute_result"
    },
    {
     "data": {
      "image/png": "[encoded data removed]",
      "text/plain": [
       "<matplotlib.figure.Figure at 0x10e1fc7b8>"
      ]
     },
     "metadata": {},
     "output_type": "display_data"
    }
   ],
   "source": [
    "img = mpimg.imread(images[0])\n",
    "plt.imshow(img)"
   ]
  },
  {
   "cell_type": "code",
   "execution_count": 47,
   "metadata": {},
   "outputs": [
    {
     "data": {
      "text/plain": [
       "array([[[121, 124, 105],\n",
       "        [121, 121, 101],\n",
       "        [119, 119,  98],\n",
       "        ..., \n",
       "        [135, 141, 121],\n",
       "        [131, 140, 119],\n",
       "        [127, 137, 115]],\n",
       "\n",
       "       [[117, 121, 101],\n",
       "        [118, 119,  98],\n",
       "        [119, 120,  98],\n",
       "        ..., \n",
       "        [135, 141, 121],\n",
       "        [130, 140, 118],\n",
       "        [129, 140, 118]],\n",
       "\n",
       "       [[115, 121, 104],\n",
       "        [116, 117, 100],\n",
       "        [116, 116, 100],\n",
       "        ..., \n",
       "        [132, 141, 120],\n",
       "        [131, 141, 121],\n",
       "        [132, 142, 122]],\n",
       "\n",
       "       ..., \n",
       "       [[ 11,  20,  24],\n",
       "        [ 14,  23,  26],\n",
       "        [ 13,  23,  25],\n",
       "        ..., \n",
       "        [  9,  18,  21],\n",
       "        [  8,  16,  19],\n",
       "        [  5,  14,  16]],\n",
       "\n",
       "       [[ 11,  20,  24],\n",
       "        [ 15,  24,  26],\n",
       "        [ 16,  25,  26],\n",
       "        ..., \n",
       "        [ 13,  16,  21],\n",
       "        [ 12,  15,  20],\n",
       "        [  9,  14,  17]],\n",
       "\n",
       "       [[ 12,  21,  25],\n",
       "        [ 15,  24,  26],\n",
       "        [ 15,  25,  25],\n",
       "        ..., \n",
       "        [ 14,  18,  23],\n",
       "        [ 14,  19,  24],\n",
       "        [ 15,  21,  24]]], dtype=uint8)"
      ]
     },
     "execution_count": 47,
     "metadata": {},
     "output_type": "execute_result"
    }
   ],
   "source": [
    "import numpy as np\n",
    "np.uint8(img * 255)"
   ]
  },
  {
   "cell_type": "code",
   "execution_count": 50,
   "metadata": {},
   "outputs": [
    {
     "data": {
      "text/plain": [
       "array([[[254, 233, 216],\n",
       "        [245, 238, 232],\n",
       "        [196, 205, 212],\n",
       "        ..., \n",
       "        [ 16,  35,  52],\n",
       "        [ 20,  37,  53],\n",
       "        [ 32,  48,  63]],\n",
       "\n",
       "       [[245, 238, 232],\n",
       "        [188, 193, 197],\n",
       "        [137, 158, 175],\n",
       "        ..., \n",
       "        [ 74, 108, 135],\n",
       "        [ 47,  77, 103],\n",
       "        [  4,  34,  60]],\n",
       "\n",
       "       [[193, 202, 209],\n",
       "        [134, 157, 173],\n",
       "        [115, 154, 183],\n",
       "        ..., \n",
       "        [ 95, 144, 184],\n",
       "        [ 89, 137, 177],\n",
       "        [ 52,  97, 136]],\n",
       "\n",
       "       ..., \n",
       "       [[141, 131, 129],\n",
       "        [132, 121, 119],\n",
       "        [114, 100,  97],\n",
       "        ..., \n",
       "        [ 99,  80,  74],\n",
       "        [ 99,  80,  74],\n",
       "        [113,  94,  88]],\n",
       "\n",
       "       [[164, 154, 152],\n",
       "        [133, 122, 120],\n",
       "        [120, 106, 103],\n",
       "        ..., \n",
       "        [107,  88,  82],\n",
       "        [109,  90,  84],\n",
       "        [111,  92,  86]],\n",
       "\n",
       "       [[189, 179, 177],\n",
       "        [135, 125, 123],\n",
       "        [128, 117, 113],\n",
       "        ..., \n",
       "        [ 97,  78,  72],\n",
       "        [ 95,  76,  70],\n",
       "        [ 73,  54,  48]]], dtype=uint8)"
      ]
     },
     "execution_count": 50,
     "metadata": {},
     "output_type": "execute_result"
    }
   ],
   "source": [
    "img2 = mpimg.imread('test_images/test1.jpg')\n",
    "img2"
   ]
  },
  {
   "cell_type": "code",
   "execution_count": 60,
   "metadata": {},
   "outputs": [
    {
     "data": {
      "text/plain": [
       "array([[1, 1, 1],\n",
       "       [2, 2, 2],\n",
       "       [1, 2, 3],\n",
       "       [1, 2, 3]])"
      ]
     },
     "execution_count": 60,
     "metadata": {},
     "output_type": "execute_result"
    }
   ],
   "source": [
    "np.vstack(([[1,1,1], [2,2,2]], [[1,2,3], [1,2,3]]))"
   ]
  },
  {
   "cell_type": "code",
   "execution_count": null,
   "metadata": {},
   "outputs": [],
   "source": []
  }
 ],
 "metadata": {
  "kernelspec": {
   "display_name": "Python 3",
   "language": "python",
   "name": "python3"
  },
  "language_info": {
   "codemirror_mode": {
    "name": "ipython",
    "version": 3
   },
   "file_extension": ".py",
   "mimetype": "text/x-python",
   "name": "python",
   "nbconvert_exporter": "python",
   "pygments_lexer": "ipython3",
   "version": "3.6.3"
  }
 },
 "nbformat": 4,
 "nbformat_minor": 2
}
